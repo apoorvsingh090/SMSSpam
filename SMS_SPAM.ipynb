{
  "nbformat": 4,
  "nbformat_minor": 0,
  "metadata": {
    "colab": {
      "name": "SMS SPAM.ipynb",
      "provenance": [],
      "collapsed_sections": [],
      "authorship_tag": "ABX9TyOoBwKdhkNdnOAtwrmo1ETr",
      "include_colab_link": true
    },
    "kernelspec": {
      "name": "python3",
      "display_name": "Python 3"
    },
    "language_info": {
      "name": "python"
    },
    "accelerator": "GPU"
  },
  "cells": [
    {
      "cell_type": "markdown",
      "metadata": {
        "id": "view-in-github",
        "colab_type": "text"
      },
      "source": [
        "<a href=\"https://colab.research.google.com/github/apoorvsingh090/SMSSpam/blob/main/SMS_SPAM.ipynb\" target=\"_parent\"><img src=\"https://colab.research.google.com/assets/colab-badge.svg\" alt=\"Open In Colab\"/></a>"
      ]
    },
    {
      "cell_type": "code",
      "metadata": {
        "colab": {
          "base_uri": "https://localhost:8080/"
        },
        "id": "OKGymBnbnfl-",
        "outputId": "dc446741-6c65-446f-8156-974b7fad5610"
      },
      "source": [
        "!wget -O dataset.zip \"https://primeroomlink.herokuapp.com/9075802710278080/archive_2.zip\"\n",
        "!unzip \"dataset.zip\""
      ],
      "execution_count": 1,
      "outputs": [
        {
          "output_type": "stream",
          "text": [
            "--2021-04-18 14:37:05--  https://primeroomlink.herokuapp.com/9075802710278080/archive_2.zip\n",
            "Resolving primeroomlink.herokuapp.com (primeroomlink.herokuapp.com)... 3.219.96.23, 23.22.144.165, 23.22.52.7, ...\n",
            "Connecting to primeroomlink.herokuapp.com (primeroomlink.herokuapp.com)|3.219.96.23|:443... connected.\n",
            "HTTP request sent, awaiting response... 200 OK\n",
            "Length: 215934 (211K) [application/zip]\n",
            "Saving to: ‘dataset.zip’\n",
            "\n",
            "dataset.zip         100%[===================>] 210.87K   158KB/s    in 1.3s    \n",
            "\n",
            "2021-04-18 14:37:07 (158 KB/s) - ‘dataset.zip’ saved [215934/215934]\n",
            "\n",
            "Archive:  dataset.zip\n",
            "  inflating: spam.csv                \n"
          ],
          "name": "stdout"
        }
      ]
    },
    {
      "cell_type": "code",
      "metadata": {
        "id": "Rdl81NQVoZuG"
      },
      "source": [
        "import pandas as pd\n",
        "import numpy as np\n",
        "import matplotlib.pyplot as plt\n"
      ],
      "execution_count": 2,
      "outputs": []
    },
    {
      "cell_type": "code",
      "metadata": {
        "id": "AMD19NoyoghH"
      },
      "source": [
        "dataset=pd.read_csv(\"spam.csv\",encoding='latin-1')\n"
      ],
      "execution_count": 3,
      "outputs": []
    },
    {
      "cell_type": "code",
      "metadata": {
        "id": "0sTmEydNpHhu"
      },
      "source": [
        "dataset['Unnamed: 2'].fillna(\"\",inplace=True)\n",
        "dataset['Unnamed: 3'].fillna(\"\",inplace=True)\n",
        "dataset['Unnamed: 4'].fillna(\"\",inplace=True)\n",
        "dataset['new']=dataset['v2']+dataset['Unnamed: 2']+dataset['Unnamed: 3']+dataset['Unnamed: 4']\n",
        "dataset['v1']=(dataset['v1']==\"spam\").astype(int)\n",
        "dataset.drop(['v2','Unnamed: 2','Unnamed: 3','Unnamed: 4'],axis=1,inplace=True)"
      ],
      "execution_count": 4,
      "outputs": []
    },
    {
      "cell_type": "code",
      "metadata": {
        "colab": {
          "base_uri": "https://localhost:8080/",
          "height": 204
        },
        "id": "FT9Cvkzc89HE",
        "outputId": "ecbb2ca1-d76b-4627-a27e-facbe174859d"
      },
      "source": [
        "dataset.head()"
      ],
      "execution_count": 5,
      "outputs": [
        {
          "output_type": "execute_result",
          "data": {
            "text/html": [
              "<div>\n",
              "<style scoped>\n",
              "    .dataframe tbody tr th:only-of-type {\n",
              "        vertical-align: middle;\n",
              "    }\n",
              "\n",
              "    .dataframe tbody tr th {\n",
              "        vertical-align: top;\n",
              "    }\n",
              "\n",
              "    .dataframe thead th {\n",
              "        text-align: right;\n",
              "    }\n",
              "</style>\n",
              "<table border=\"1\" class=\"dataframe\">\n",
              "  <thead>\n",
              "    <tr style=\"text-align: right;\">\n",
              "      <th></th>\n",
              "      <th>v1</th>\n",
              "      <th>new</th>\n",
              "    </tr>\n",
              "  </thead>\n",
              "  <tbody>\n",
              "    <tr>\n",
              "      <th>0</th>\n",
              "      <td>0</td>\n",
              "      <td>Go until jurong point, crazy.. Available only ...</td>\n",
              "    </tr>\n",
              "    <tr>\n",
              "      <th>1</th>\n",
              "      <td>0</td>\n",
              "      <td>Ok lar... Joking wif u oni...</td>\n",
              "    </tr>\n",
              "    <tr>\n",
              "      <th>2</th>\n",
              "      <td>1</td>\n",
              "      <td>Free entry in 2 a wkly comp to win FA Cup fina...</td>\n",
              "    </tr>\n",
              "    <tr>\n",
              "      <th>3</th>\n",
              "      <td>0</td>\n",
              "      <td>U dun say so early hor... U c already then say...</td>\n",
              "    </tr>\n",
              "    <tr>\n",
              "      <th>4</th>\n",
              "      <td>0</td>\n",
              "      <td>Nah I don't think he goes to usf, he lives aro...</td>\n",
              "    </tr>\n",
              "  </tbody>\n",
              "</table>\n",
              "</div>"
            ],
            "text/plain": [
              "   v1                                                new\n",
              "0   0  Go until jurong point, crazy.. Available only ...\n",
              "1   0                      Ok lar... Joking wif u oni...\n",
              "2   1  Free entry in 2 a wkly comp to win FA Cup fina...\n",
              "3   0  U dun say so early hor... U c already then say...\n",
              "4   0  Nah I don't think he goes to usf, he lives aro..."
            ]
          },
          "metadata": {
            "tags": []
          },
          "execution_count": 5
        }
      ]
    },
    {
      "cell_type": "code",
      "metadata": {
        "colab": {
          "base_uri": "https://localhost:8080/"
        },
        "id": "4b1nlfkL-wPz",
        "outputId": "89ace69f-f696-403a-b068-83c6ba6ebf6e"
      },
      "source": [
        "from imblearn.over_sampling import RandomOverSampler\n",
        "import collections\n",
        "ros = RandomOverSampler(random_state=0)\n",
        "X, y = ros.fit_resample(dataset[dataset.columns.drop(['v1'])], dataset['v1'])\n",
        "\n",
        "print(collections.Counter(dataset['v1']),collections.Counter(y))\n"
      ],
      "execution_count": 25,
      "outputs": [
        {
          "output_type": "stream",
          "text": [
            "Counter({0: 4825, 1: 747}) Counter({0: 4825, 1: 4825})\n"
          ],
          "name": "stdout"
        },
        {
          "output_type": "stream",
          "text": [
            "/usr/local/lib/python3.7/dist-packages/sklearn/utils/deprecation.py:87: FutureWarning: Function safe_indexing is deprecated; safe_indexing is deprecated in version 0.22 and will be removed in version 0.24.\n",
            "  warnings.warn(msg, category=FutureWarning)\n"
          ],
          "name": "stderr"
        }
      ]
    },
    {
      "cell_type": "code",
      "metadata": {
        "id": "UmSXkFtDcEre"
      },
      "source": [
        "X=pd.DataFrame({'text': X[:, 0]})\n"
      ],
      "execution_count": 27,
      "outputs": []
    },
    {
      "cell_type": "code",
      "metadata": {
        "id": "jrqbzxPNd3P5"
      },
      "source": [
        "from tensorflow.keras.preprocessing.text import Tokenizer\n",
        "training_sentences = X['text'].values\n",
        "tokenizer = Tokenizer()\n",
        "tokenizer.fit_on_texts(training_sentences)\n",
        "word_index = tokenizer.word_index"
      ],
      "execution_count": 8,
      "outputs": []
    },
    {
      "cell_type": "code",
      "metadata": {
        "id": "G0uplVqKe9U-"
      },
      "source": [
        "training_sequences = tokenizer.texts_to_sequences(training_sentences)"
      ],
      "execution_count": 9,
      "outputs": []
    },
    {
      "cell_type": "code",
      "metadata": {
        "id": "MYqTZjhbu-9h"
      },
      "source": [
        "reverse_word_map = dict(map(reversed, tokenizer.word_index.items()))\n",
        "def sequence_to_text(list_of_indices):\n",
        "    # Looking up words in dictionary\n",
        "    words = [reverse_word_map.get(letter) for letter in list_of_indices]\n",
        "    return(words)\n",
        "\n",
        "# Creating texts \n",
        "my_texts = list(map(sequence_to_text, training_sequences))\n"
      ],
      "execution_count": 10,
      "outputs": []
    },
    {
      "cell_type": "code",
      "metadata": {
        "id": "p7pN8U1XJcWk"
      },
      "source": [
        "j=[]\n",
        "for i in range(len(my_texts)):\n",
        "  j.append(str(' '.join(my_texts[i])))"
      ],
      "execution_count": 11,
      "outputs": []
    },
    {
      "cell_type": "code",
      "metadata": {
        "id": "evMIGGRoFxg_"
      },
      "source": [
        "from sklearn.feature_extraction.text import CountVectorizer\n",
        "cv = CountVectorizer(max_features = 5000)\n",
        "x = cv.fit_transform(j).toarray()\n"
      ],
      "execution_count": 15,
      "outputs": []
    },
    {
      "cell_type": "code",
      "metadata": {
        "id": "SpTSHsOcGdcI"
      },
      "source": [
        "from sklearn.model_selection import train_test_split\n",
        "\n",
        "trainx,testx,trainy,testy = train_test_split(x,y,test_size=0.2,random_state=2)\n"
      ],
      "execution_count": 16,
      "outputs": []
    },
    {
      "cell_type": "code",
      "metadata": {
        "colab": {
          "base_uri": "https://localhost:8080/"
        },
        "id": "NQSOo6znISjH",
        "outputId": "8fa68636-2faf-4f3f-cf89-fba9d7663b26"
      },
      "source": [
        "from sklearn.ensemble import RandomForestClassifier\n",
        "from sklearn.metrics import accuracy_score\n",
        "\n",
        "rf_model = RandomForestClassifier(n_estimators=1000,max_depth=100,random_state=1,max_features=1)\n",
        "rf_model.fit(trainx, trainy)\n",
        "rf_test_predictions = rf_model.predict(testx)\n",
        "rf_test_mae = accuracy_score(rf_test_predictions, testy)\n",
        "print(rf_test_mae)"
      ],
      "execution_count": 17,
      "outputs": [
        {
          "output_type": "stream",
          "text": [
            "0.9901554404145078\n"
          ],
          "name": "stdout"
        }
      ]
    },
    {
      "cell_type": "code",
      "metadata": {
        "colab": {
          "base_uri": "https://localhost:8080/"
        },
        "id": "kb70_2FsC6ZV",
        "outputId": "6e4321dc-e0a4-4b9d-81b6-83a10bf9323c"
      },
      "source": [
        "from sklearn import svm\n",
        "svmclf_model = svm.SVC()\n",
        "svmclf_model.fit(trainx, trainy)\n",
        "svc = svmclf_model.predict(testx)\n",
        "svm_mae = accuracy_score(svc, testy)\n",
        "print(svm_mae)"
      ],
      "execution_count": 18,
      "outputs": [
        {
          "output_type": "stream",
          "text": [
            "0.9989637305699481\n"
          ],
          "name": "stdout"
        }
      ]
    },
    {
      "cell_type": "code",
      "metadata": {
        "colab": {
          "base_uri": "https://localhost:8080/"
        },
        "id": "bd0Xjm-EDZBI",
        "outputId": "1c675e05-8c25-4cd3-d8de-10167df6c217"
      },
      "source": [
        "from sklearn.linear_model import LogisticRegression\n",
        "logreg = LogisticRegression(random_state=0,max_iter=1000)\n",
        "logreg.fit(trainx, trainy)\n",
        "logregpred = logreg.predict(testx)\n",
        "logreg_mae = accuracy_score(logregpred, testy)\n",
        "print(logreg_mae)"
      ],
      "execution_count": 19,
      "outputs": [
        {
          "output_type": "stream",
          "text": [
            "0.9984455958549223\n"
          ],
          "name": "stdout"
        }
      ]
    },
    {
      "cell_type": "code",
      "metadata": {
        "id": "E1U02n5OhGfD",
        "colab": {
          "base_uri": "https://localhost:8080/"
        },
        "outputId": "3f77283e-b8c0-4585-9fc0-500932155aa6"
      },
      "source": [
        "from xgboost import XGBClassifier\n",
        "\n",
        "my_model_1 = XGBClassifier(random_state=0)\n",
        "\n",
        "my_model_1.fit(trainx, trainy)\n",
        "xgpredictions=my_model_1.predict(testx)\n",
        "print(accuracy_score(xgpredictions, testy))\n"
      ],
      "execution_count": 20,
      "outputs": [
        {
          "output_type": "stream",
          "text": [
            "0.9590673575129534\n"
          ],
          "name": "stdout"
        }
      ]
    },
    {
      "cell_type": "code",
      "metadata": {
        "id": "XEBTsKVpXc9p",
        "colab": {
          "base_uri": "https://localhost:8080/",
          "height": 296
        },
        "outputId": "849f47c5-abd6-475e-f25c-b38ce0f6037f"
      },
      "source": [
        "from sklearn.metrics import confusion_matrix\n",
        "from sklearn.metrics import ConfusionMatrixDisplay\n",
        "disp = ConfusionMatrixDisplay(confusion_matrix=confusion_matrix(testy, logregpred),display_labels=['Ham','Spam'])\n",
        "disp.plot()"
      ],
      "execution_count": 28,
      "outputs": [
        {
          "output_type": "execute_result",
          "data": {
            "text/plain": [
              "<sklearn.metrics._plot.confusion_matrix.ConfusionMatrixDisplay at 0x7f89a6727190>"
            ]
          },
          "metadata": {
            "tags": []
          },
          "execution_count": 28
        },
        {
          "output_type": "display_data",
          "data": {
            "image/png": "[encoded data removed]",
            "text/plain": [
              "<Figure size 432x288 with 2 Axes>"
            ]
          },
          "metadata": {
            "tags": [],
            "needs_background": "light"
          }
        }
      ]
    },
    {
      "cell_type": "code",
      "metadata": {
        "id": "bTA6Bp6IYvRz",
        "colab": {
          "base_uri": "https://localhost:8080/",
          "height": 282
        },
        "outputId": "df83a9bf-79df-452c-8510-bafbded6cc55"
      },
      "source": [
        "from sklearn.metrics import roc_curve\n",
        "fpr, tpr, thresholds = roc_curve(testy, logregpred)\n",
        "plt.plot(fpr,tpr)"
      ],
      "execution_count": 29,
      "outputs": [
        {
          "output_type": "execute_result",
          "data": {
            "text/plain": [
              "[<matplotlib.lines.Line2D at 0x7f89a605b2d0>]"
            ]
          },
          "metadata": {
            "tags": []
          },
          "execution_count": 29
        },
        {
          "output_type": "display_data",
          "data": {
            "image/png": "[encoded data removed]",
            "text/plain": [
              "<Figure size 432x288 with 1 Axes>"
            ]
          },
          "metadata": {
            "tags": [],
            "needs_background": "light"
          }
        }
      ]
    },
    {
      "cell_type": "code",
      "metadata": {
        "id": "xBrOUauGaz95"
      },
      "source": [
        ""
      ],
      "execution_count": null,
      "outputs": []
    }
  ]
}